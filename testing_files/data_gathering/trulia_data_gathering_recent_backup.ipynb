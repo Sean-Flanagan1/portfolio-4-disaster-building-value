{
 "cells": [
  {
   "cell_type": "code",
   "execution_count": 1,
   "metadata": {},
   "outputs": [],
   "source": [
    "# Import libraries:\n",
    "import pandas as pd\n",
    "import requests\n",
    "from bs4 import BeautifulSoup\n",
    "import numpy as np\n",
    "import pandas as pd\n",
    "# header = {'User-Agent':'cjbratkovics2'}"
   ]
  },
  {
   "cell_type": "code",
   "execution_count": 2,
   "metadata": {},
   "outputs": [],
   "source": [
    "# base_url = 'https://www.trulia.com/'\n",
    "# url = 'https://www.trulia.com/NY/New_York/10011/'"
   ]
  },
  {
   "cell_type": "code",
   "execution_count": 3,
   "metadata": {},
   "outputs": [],
   "source": [
    "# base_res = requests.get(base_url, headers = header)\n",
    "# res = requests.get(url, headers = header)"
   ]
  },
  {
   "cell_type": "code",
   "execution_count": 4,
   "metadata": {},
   "outputs": [],
   "source": [
    "# print('Trulia status code = ', base_res.status_code)\n",
    "# print('Trulia 10011 status code = ', res.status_code)\n",
    "# soup = BeautifulSoup(res.content, 'lxml')"
   ]
  },
  {
   "cell_type": "code",
   "execution_count": 5,
   "metadata": {},
   "outputs": [],
   "source": [
    "# general_house_info = soup.find_all('ul', {'data-testid': 'cardDescription'})"
   ]
  },
  {
   "cell_type": "code",
   "execution_count": 6,
   "metadata": {},
   "outputs": [],
   "source": [
    "# info = []"
   ]
  },
  {
   "cell_type": "code",
   "execution_count": 7,
   "metadata": {},
   "outputs": [],
   "source": [
    "# for g in general_house_info:\n",
    "#     print(g.text)\n",
    "#     info.append(g.text)"
   ]
  },
  {
   "cell_type": "code",
   "execution_count": 8,
   "metadata": {},
   "outputs": [],
   "source": [
    "# info"
   ]
  },
  {
   "cell_type": "code",
   "execution_count": 9,
   "metadata": {},
   "outputs": [],
   "source": [
    "# house_info = soup.find_all('span', {'class': 'cardPrice h5 man pan typeEmphasize noWrap typeTruncate'})"
   ]
  },
  {
   "cell_type": "code",
   "execution_count": 10,
   "metadata": {},
   "outputs": [],
   "source": [
    "# house_info"
   ]
  },
  {
   "cell_type": "code",
   "execution_count": 11,
   "metadata": {},
   "outputs": [],
   "source": [
    "# prices = []\n",
    "# for i in house_info:\n",
    "#     print(i.text)\n",
    "#     prices.append(i.text)"
   ]
  },
  {
   "cell_type": "code",
   "execution_count": 12,
   "metadata": {},
   "outputs": [],
   "source": [
    "# prices"
   ]
  },
  {
   "cell_type": "code",
   "execution_count": 13,
   "metadata": {},
   "outputs": [],
   "source": [
    "# next_page = (soup.find('a', {'class': 'pvl phm'}))"
   ]
  },
  {
   "cell_type": "code",
   "execution_count": 14,
   "metadata": {},
   "outputs": [],
   "source": [
    "# next_page"
   ]
  },
  {
   "cell_type": "code",
   "execution_count": 15,
   "metadata": {},
   "outputs": [],
   "source": [
    "# next_page.attrs"
   ]
  },
  {
   "cell_type": "code",
   "execution_count": 16,
   "metadata": {},
   "outputs": [],
   "source": [
    "# next_pagee = (soup.find('a', {'class': 'pvl phm'}))"
   ]
  },
  {
   "cell_type": "code",
   "execution_count": 17,
   "metadata": {},
   "outputs": [],
   "source": [
    "# next_pagee"
   ]
  },
  {
   "cell_type": "code",
   "execution_count": 18,
   "metadata": {},
   "outputs": [],
   "source": [
    "# next_pages = (soup.find_all('a', {'class': 'pvl phm'}))"
   ]
  },
  {
   "cell_type": "code",
   "execution_count": 19,
   "metadata": {},
   "outputs": [],
   "source": [
    "# next_pages"
   ]
  },
  {
   "cell_type": "code",
   "execution_count": 20,
   "metadata": {},
   "outputs": [],
   "source": [
    "# for p in next_pages:\n",
    "#     print(p.attrs['aria-label'], p.attrs['href'])"
   ]
  },
  {
   "cell_type": "code",
   "execution_count": 21,
   "metadata": {},
   "outputs": [],
   "source": [
    "# for p in next_pages:\n",
    "#     if (p.attrs['aria-label'] == 'Next page'):\n",
    "#         print(p.attrs['href'])"
   ]
  },
  {
   "cell_type": "code",
   "execution_count": 22,
   "metadata": {},
   "outputs": [],
   "source": [
    "# for p in next_pages:\n",
    "#     if (p.attrs['aria-label'] == 'Next page'):\n",
    "#         next_page_url = p.attrs['href']"
   ]
  },
  {
   "cell_type": "code",
   "execution_count": 23,
   "metadata": {},
   "outputs": [],
   "source": [
    "# next_page_url"
   ]
  },
  {
   "cell_type": "code",
   "execution_count": 24,
   "metadata": {},
   "outputs": [],
   "source": [
    "# next_res = requests.get(next_page_url, headers = header)"
   ]
  },
  {
   "cell_type": "code",
   "execution_count": 25,
   "metadata": {},
   "outputs": [],
   "source": [
    "# print('Trulia Next Page status code = ', next_res.status_code)\n",
    "# soup = BeautifulSoup(next_res.content, 'lxml')"
   ]
  },
  {
   "cell_type": "code",
   "execution_count": 26,
   "metadata": {},
   "outputs": [],
   "source": [
    "# general_house_info = soup.find_all('ul', {'data-testid': 'cardDescription'})\n",
    "# info_2 = []"
   ]
  },
  {
   "cell_type": "code",
   "execution_count": 27,
   "metadata": {},
   "outputs": [],
   "source": [
    "# for g in general_house_info:\n",
    "#     print(g.text)\n",
    "#     info_2.append(g.text)"
   ]
  },
  {
   "cell_type": "code",
   "execution_count": 28,
   "metadata": {},
   "outputs": [],
   "source": [
    "# house_prices = soup.find_all('span', {'class': 'cardPrice h5 man pan typeEmphasize noWrap typeTruncate'})\n",
    "# house_prices"
   ]
  },
  {
   "cell_type": "code",
   "execution_count": 29,
   "metadata": {},
   "outputs": [],
   "source": [
    "# prices_2 = []\n",
    "# for p in house_prices:\n",
    "#     print(p.text)\n",
    "#     prices_2.append(p.text)"
   ]
  },
  {
   "cell_type": "code",
   "execution_count": 30,
   "metadata": {},
   "outputs": [],
   "source": [
    "# prices_2"
   ]
  },
  {
   "cell_type": "code",
   "execution_count": 31,
   "metadata": {},
   "outputs": [],
   "source": [
    "# info_2"
   ]
  },
  {
   "cell_type": "code",
   "execution_count": 32,
   "metadata": {},
   "outputs": [],
   "source": [
    "# next_page = (soup.find('a', {'class': 'pvl phm'}))\n",
    "# next_page"
   ]
  },
  {
   "cell_type": "code",
   "execution_count": 33,
   "metadata": {},
   "outputs": [],
   "source": [
    "# next_pages = (soup.find_all('a', {'class': 'pvl phm'}))\n",
    "# next_pages"
   ]
  },
  {
   "cell_type": "code",
   "execution_count": 34,
   "metadata": {},
   "outputs": [],
   "source": [
    "# for p in next_pages:\n",
    "#     if (p.attrs['aria-label'] == 'Next page'):\n",
    "#         next_page_url = p.attrs['href']"
   ]
  },
  {
   "cell_type": "code",
   "execution_count": 35,
   "metadata": {},
   "outputs": [],
   "source": [
    "# next_page_url"
   ]
  },
  {
   "cell_type": "code",
   "execution_count": 36,
   "metadata": {},
   "outputs": [],
   "source": [
    "# base_url = 'https://www.trulia.com/'\n",
    "# base_res = requests.get(base_url, headers = header)\n",
    "# print('Trulia status code = ', base_res.status_code)"
   ]
  },
  {
   "cell_type": "code",
   "execution_count": 37,
   "metadata": {},
   "outputs": [],
   "source": [
    "# base_soup = BeautifulSoup(base_res.content, 'lxml')"
   ]
  },
  {
   "cell_type": "code",
   "execution_count": 38,
   "metadata": {},
   "outputs": [],
   "source": [
    "# url = 'https://www.trulia.com/NY/New_York/10011/'\n",
    "# res = requests.get(url, headers = header)\n",
    "# print('Trulia 10011 status code = ', res.status_code)\n",
    "# soup = BeautifulSoup(res.content, 'lxml')"
   ]
  },
  {
   "cell_type": "code",
   "execution_count": 39,
   "metadata": {},
   "outputs": [],
   "source": [
    "# house_prices = soup.find_all('span', {'class': 'cardPrice h5 man pan typeEmphasize noWrap typeTruncate'})\n",
    "# prices = []\n",
    "# for i in house_prices:\n",
    "#     prices.append(i.text)\n",
    "# prices"
   ]
  },
  {
   "cell_type": "code",
   "execution_count": 40,
   "metadata": {},
   "outputs": [],
   "source": [
    "# house_addresses = soup.find_all('div', {'class': 'h6 typeWeightNormal typeTruncate typeLowlight mvn'})\n",
    "# addresses = []\n",
    "# for i in house_addresses:\n",
    "#     addresses.append(i.text)\n",
    "# addresses"
   ]
  },
  {
   "cell_type": "code",
   "execution_count": 41,
   "metadata": {},
   "outputs": [],
   "source": [
    "# house_cities = soup.find_all('div', {'class': 'typeTruncate typeLowlight'})\n",
    "# cities = []\n",
    "# for i in house_cities:\n",
    "#     cities.append(i.text)\n",
    "# cities"
   ]
  },
  {
   "cell_type": "code",
   "execution_count": 42,
   "metadata": {},
   "outputs": [],
   "source": [
    "# general_house_info = soup.find_all('ul', {'data-testid': 'cardDescription'})\n",
    "# info = []\n",
    "# for g in general_house_info:\n",
    "#     s = g.text\n",
    "#     s = s.replace(',', '')\n",
    "#     info.append(s)\n",
    "# info"
   ]
  },
  {
   "cell_type": "code",
   "execution_count": 43,
   "metadata": {},
   "outputs": [],
   "source": [
    "# df.to_csv('./trulia_10011_df.csv')"
   ]
  },
  {
   "cell_type": "code",
   "execution_count": 44,
   "metadata": {},
   "outputs": [],
   "source": [
    "# url = 'https://www.trulia.com/NY/New_York/10011/'\n",
    "# res = requests.get(url, headers = header)\n",
    "# print('Status code = ', res.status_code)\n",
    "# soup = BeautifulSoup(res.content, 'lxml')"
   ]
  },
  {
   "cell_type": "code",
   "execution_count": 45,
   "metadata": {},
   "outputs": [],
   "source": [
    "# next_pages = (soup.find_all('a', {'class': 'pvl phm'}))\n",
    "    \n",
    "# link_list = []\n",
    "# num_list = []\n",
    "# link_with_nums = {}\n",
    "# num_link = {}\n",
    "# for p in next_pages:\n",
    "#     num_link['text'] = p.text\n",
    "#     num_link['attributes'] = p.attrs['href']\n",
    "#     num_list.append(p.text)\n",
    "#     link_list.append(p.attrs['href'])\n",
    "    \n",
    "    #link_with_nums.append(num_link)\n",
    "    \n",
    "# num_list = ','.join(num_list)\n",
    "# num_list = np.fromstring(num_list, dtype=np.int, sep=',' )\n",
    "# print(link_list)\n",
    "# print(num_list)\n",
    "# link_with_nums['page_num'] = num_list\n",
    "# link_with_nums['page_link'] = np.unique(link_list)\n",
    "# print(link_with_nums)"
   ]
  },
  {
   "cell_type": "code",
   "execution_count": 46,
   "metadata": {},
   "outputs": [],
   "source": [
    "# link_with_nums['page_link'][0]"
   ]
  },
  {
   "cell_type": "code",
   "execution_count": 47,
   "metadata": {},
   "outputs": [],
   "source": [
    "# next_pages"
   ]
  },
  {
   "cell_type": "code",
   "execution_count": 48,
   "metadata": {},
   "outputs": [],
   "source": [
    "def gather_housing_data(url):\n",
    "    # Initialize results list to store all data from this page.\n",
    "    results = []\n",
    "    \n",
    "    # Initialize header, request, and beautifulsoup.\n",
    "    header = {'User-Agent':'cjbratkovics2'}\n",
    "    res = requests.get(url, headers = header)\n",
    "    soup = BeautifulSoup(res.content, 'lxml')\n",
    "    \n",
    "    # Find and store the price of each house; most important.\n",
    "    house_prices = soup.find_all('span', {'class': 'cardPrice h5 man pan typeEmphasize noWrap typeTruncate'})\n",
    "    prices = []\n",
    "    for i in house_prices:\n",
    "        prices.append(i.text)\n",
    "\n",
    "    # Find and store each house's address.\n",
    "    house_addresses = soup.find_all('div', {'class': 'h6 typeWeightNormal typeTruncate typeLowlight mvn'})\n",
    "    addresses = []\n",
    "    for i in house_addresses:\n",
    "        addresses.append(i.text)\n",
    "\n",
    "    # Find and store the city/state of each house.\n",
    "    house_cities = soup.find_all('div', {'class': 'typeTruncate typeLowlight'})\n",
    "    cities = []\n",
    "    for i in house_cities:\n",
    "        cities.append(i.text)\n",
    "    \n",
    "    # Find and store the bedrooms, bathrooms, and area of each house.\n",
    "    general_house_info = soup.find_all('ul', {'data-testid': 'cardDescription'})\n",
    "    info = []\n",
    "    for g in general_house_info:\n",
    "        s = g.text\n",
    "        s = s.replace(',', '')\n",
    "        info.append(s)\n",
    "\n",
    "    # Save all data for each house in the result dictionary.\n",
    "    for i in range(len(house_prices)):\n",
    "        # Initialize empty result dictionary to store results from each page.\n",
    "        result = {}\n",
    "        \n",
    "        # Store all meaningful values to result dictionary.\n",
    "        result['price'] = prices[i]\n",
    "        result['qualities'] = info[i]\n",
    "        result['address'] = addresses[i]\n",
    "        result['city/state'] = cities[i]\n",
    "    \n",
    "        # Add all result dictionary data to results list.\n",
    "        results.append(result)\n",
    "    \n",
    "    # Return the results from the page and url.\n",
    "    return results, url"
   ]
  },
  {
   "cell_type": "code",
   "execution_count": 49,
   "metadata": {},
   "outputs": [],
   "source": [
    "def update_url(page_url, count):\n",
    "    \n",
    "    # Assume there is no next page.\n",
    "    next_exists = False\n",
    "    \n",
    "    # Initialize header, request, and beautifulsoup.\n",
    "    header = {'User-Agent':'cjbratkovics2'}\n",
    "    res = requests.get(page_url, headers = header)\n",
    "    soup = BeautifulSoup(res.content, 'lxml')\n",
    "\n",
    "    # Find and store the next page url.\n",
    "    next_pages = (soup.find_all('a', {'class': 'pvl phm'}))\n",
    "    \n",
    "    for p in next_pages:\n",
    "        if (p.attrs['aria-label'] == 'Next page'):\n",
    "            next_page_url = p.attrs['href']\n",
    "            next_exists = True\n",
    "        else:\n",
    "            next_page_url = page_url\n",
    "    # If the next page doesn't exist, assign next_url to None.\n",
    "    if next_exists == False:\n",
    "        count += 1\n",
    "            \n",
    "    # Return the results from this page and the next page's url.\n",
    "    return next_page_url, count"
   ]
  },
  {
   "cell_type": "code",
   "execution_count": 50,
   "metadata": {},
   "outputs": [],
   "source": [
    "def data_cleaning(df):\n",
    "    df['studio'] = df['qualities'].str.extract(r'(Studio)')\n",
    "    \n",
    "    df['bath'] = df['qualities'].str.extract(r'([0123456789]ba)')\n",
    "    df['bath'] = df['bath'].map(lambda bath_cell: np.nan if bath_cell == 'NaN' else str(bath_cell))\n",
    "    df['bath'] = df['bath'].map(lambda bath_cell: bath_cell.replace('ba', ''))\n",
    "    df['bath'] = df['bath'].map(lambda bath_cell: bath_cell.replace('0', '10'))\n",
    "    df['bath'] = df['bath'].astype(float)\n",
    "    \n",
    "    df['bed'] = df['qualities'].str.extract(r'([0123456789]bd)')\n",
    "    df['bed'] = df['bed'].map(lambda bed_cell: np.nan if bed_cell == 'NaN' else str(bed_cell))\n",
    "    df['bed'] = df['bed'].map(lambda bath_cell: bath_cell.replace('bd', ''))\n",
    "    df['bed'] = df['bed'].astype(float)\n",
    "    \n",
    "    df['price'] = df['price'].map(lambda price_cell: price_cell.replace('$', ''))\n",
    "    df['price'] = df['price'].map(lambda price_cell: price_cell.replace(',', ''))\n",
    "    df['price'] = df['price'].astype(float)\n",
    "    \n",
    "    df['drop_sqft'], df['sqft_test'] = df['qualities'].str.split('[0123456789]ba', 1).str\n",
    "    df['sqft_test'] = df['sqft_test'].map(lambda sqft_cell: np.nan if sqft_cell == '' else str(sqft_cell))\n",
    "    df['sqft'], df['sqft_test_2'] = df['sqft_test'].str.split(' ', 1).str\n",
    "    df['sqft'] = df['sqft'].astype(float)\n",
    "    \n",
    "    \n",
    "    df.loc[df['studio'] == 'Studio', 'bed'] = 1\n",
    "    df.loc[df['studio'] == 'Studio', 'bath'] = 1\n",
    "    df.loc[df['studio'] != 'Studio', 'studio'] = 0\n",
    "    df.loc[df['studio'] == 'Studio', 'studio'] = 1\n",
    "    df['studio'] = df['studio'].astype(float)\n",
    "    \n",
    "    df.drop(columns= ['drop_sqft', 'sqft_test', 'sqft_test_2', 'qualities'], inplace=True)\n",
    "    \n",
    "    return df"
   ]
  },
  {
   "cell_type": "code",
   "execution_count": 51,
   "metadata": {},
   "outputs": [],
   "source": [
    "def driver(zipcode):\n",
    "    \n",
    "    # Search for zipcode input on Trulia.com home page.\n",
    "    # Get the url from that search as first_url.\n",
    "    \n",
    "    # Initialize url based on zipcode.\n",
    "    first_url = ('https://www.trulia.com/NY/New_York/' + str(zipcode) + '/')\n",
    "    \n",
    "    # Initialize header, request, and beautifulsoup.\n",
    "    header = {'User-Agent':'cjbratkovics2'}\n",
    "    res = requests.get(first_url, headers = header)\n",
    "    soup = BeautifulSoup(res.content, 'lxml')\n",
    "    \n",
    "    count = 0\n",
    "    all_results = []\n",
    "    \n",
    "    # Find and store the last page url.\n",
    "    next_pages = (soup.find_all('a', {'class': 'pvl phm'}))\n",
    "    \n",
    "    link_list = []\n",
    "    link_with_nums = {}\n",
    "    num_link = {}\n",
    "    \n",
    "    for p in next_pages:\n",
    "        num_link['text'] = p.text\n",
    "        num_link['attributes'] = p.attrs['href']\n",
    "        link_list.append(p.attrs['href'])\n",
    "        \n",
    "    link_with_nums['page_link'] = np.unique(link_list)\n",
    "    last_page_url = link_with_nums['page_link'][0]\n",
    "    \n",
    "    results, page_url = gather_housing_data(first_url)\n",
    "    all_results.append(results)\n",
    "    \n",
    "    while count < 2:\n",
    "        if count != 1:\n",
    "            next_page_url, count = update_url(page_url, count)\n",
    "            results, page_url = gather_housing_data(next_page_url)\n",
    "            all_results.append(results)\n",
    "        else:\n",
    "            results, page_url = gather_housing_data(last_page_url)\n",
    "            all_results.append(results)\n",
    "            count += 1\n",
    "            \n",
    "    return all_results"
   ]
  },
  {
   "cell_type": "code",
   "execution_count": 52,
   "metadata": {},
   "outputs": [],
   "source": [
    "all_results = driver(10011)"
   ]
  },
  {
   "cell_type": "code",
   "execution_count": 53,
   "metadata": {},
   "outputs": [],
   "source": [
    "def df_builder(all_results):\n",
    "    r = []\n",
    "    for i in all_results:\n",
    "        for j in i:\n",
    "            r.append(j)\n",
    "            \n",
    "    df = pd.DataFrame(r)\n",
    "    \n",
    "    df.drop_duplicates(subset = 'address', inplace=True)\n",
    "    \n",
    "    return df"
   ]
  },
  {
   "cell_type": "code",
   "execution_count": 54,
   "metadata": {},
   "outputs": [],
   "source": [
    "big_df = df_builder(all_results)"
   ]
  },
  {
   "cell_type": "code",
   "execution_count": 55,
   "metadata": {},
   "outputs": [],
   "source": [
    "big_df = data_cleaning(big_df)"
   ]
  },
  {
   "cell_type": "code",
   "execution_count": 56,
   "metadata": {},
   "outputs": [
    {
     "data": {
      "text/plain": [
       "address        object\n",
       "city/state     object\n",
       "price         float64\n",
       "studio        float64\n",
       "bath          float64\n",
       "bed           float64\n",
       "sqft          float64\n",
       "dtype: object"
      ]
     },
     "execution_count": 56,
     "metadata": {},
     "output_type": "execute_result"
    }
   ],
   "source": [
    "big_df.dtypes"
   ]
  },
  {
   "cell_type": "code",
   "execution_count": 57,
   "metadata": {},
   "outputs": [
    {
     "data": {
      "text/plain": [
       "(426, 7)"
      ]
     },
     "execution_count": 57,
     "metadata": {},
     "output_type": "execute_result"
    }
   ],
   "source": [
    "big_df.shape"
   ]
  },
  {
   "cell_type": "code",
   "execution_count": 58,
   "metadata": {},
   "outputs": [
    {
     "data": {
      "text/html": [
       "<div>\n",
       "<style scoped>\n",
       "    .dataframe tbody tr th:only-of-type {\n",
       "        vertical-align: middle;\n",
       "    }\n",
       "\n",
       "    .dataframe tbody tr th {\n",
       "        vertical-align: top;\n",
       "    }\n",
       "\n",
       "    .dataframe thead th {\n",
       "        text-align: right;\n",
       "    }\n",
       "</style>\n",
       "<table border=\"1\" class=\"dataframe\">\n",
       "  <thead>\n",
       "    <tr style=\"text-align: right;\">\n",
       "      <th></th>\n",
       "      <th>address</th>\n",
       "      <th>city/state</th>\n",
       "      <th>price</th>\n",
       "      <th>studio</th>\n",
       "      <th>bath</th>\n",
       "      <th>bed</th>\n",
       "      <th>sqft</th>\n",
       "    </tr>\n",
       "  </thead>\n",
       "  <tbody>\n",
       "    <tr>\n",
       "      <th>0</th>\n",
       "      <td>13 W 13th St #5JS</td>\n",
       "      <td>Greenwich Village, New York, NY</td>\n",
       "      <td>999000.0</td>\n",
       "      <td>0.0</td>\n",
       "      <td>1.0</td>\n",
       "      <td>2.0</td>\n",
       "      <td>850.0</td>\n",
       "    </tr>\n",
       "    <tr>\n",
       "      <th>1</th>\n",
       "      <td>145 W 13th St #103</td>\n",
       "      <td>Greenwich Village, New York, NY</td>\n",
       "      <td>1995000.0</td>\n",
       "      <td>0.0</td>\n",
       "      <td>3.0</td>\n",
       "      <td>2.0</td>\n",
       "      <td>NaN</td>\n",
       "    </tr>\n",
       "    <tr>\n",
       "      <th>2</th>\n",
       "      <td>442 W 22nd St #1</td>\n",
       "      <td>Chelsea, New York, NY</td>\n",
       "      <td>9995000.0</td>\n",
       "      <td>0.0</td>\n",
       "      <td>7.0</td>\n",
       "      <td>5.0</td>\n",
       "      <td>NaN</td>\n",
       "    </tr>\n",
       "    <tr>\n",
       "      <th>3</th>\n",
       "      <td>41 W 12th St</td>\n",
       "      <td>Greenwich Village, New York, NY</td>\n",
       "      <td>9250000.0</td>\n",
       "      <td>0.0</td>\n",
       "      <td>4.0</td>\n",
       "      <td>4.0</td>\n",
       "      <td>3075.0</td>\n",
       "    </tr>\n",
       "    <tr>\n",
       "      <th>4</th>\n",
       "      <td>211 W 14th St #2A</td>\n",
       "      <td>East Village, New York, NY</td>\n",
       "      <td>3850000.0</td>\n",
       "      <td>0.0</td>\n",
       "      <td>4.0</td>\n",
       "      <td>3.0</td>\n",
       "      <td>1850.0</td>\n",
       "    </tr>\n",
       "    <tr>\n",
       "      <th>5</th>\n",
       "      <td>450 W 17th St #1204</td>\n",
       "      <td>Chelsea, New York, NY</td>\n",
       "      <td>1375000.0</td>\n",
       "      <td>0.0</td>\n",
       "      <td>1.0</td>\n",
       "      <td>1.0</td>\n",
       "      <td>600.0</td>\n",
       "    </tr>\n",
       "    <tr>\n",
       "      <th>6</th>\n",
       "      <td>458 W 23rd St #Garden</td>\n",
       "      <td>Chelsea, New York, NY</td>\n",
       "      <td>559000.0</td>\n",
       "      <td>0.0</td>\n",
       "      <td>1.0</td>\n",
       "      <td>1.0</td>\n",
       "      <td>NaN</td>\n",
       "    </tr>\n",
       "    <tr>\n",
       "      <th>7</th>\n",
       "      <td>365 W 20th St #9D</td>\n",
       "      <td>Chelsea, New York, NY</td>\n",
       "      <td>725000.0</td>\n",
       "      <td>0.0</td>\n",
       "      <td>1.0</td>\n",
       "      <td>1.0</td>\n",
       "      <td>62638.0</td>\n",
       "    </tr>\n",
       "    <tr>\n",
       "      <th>8</th>\n",
       "      <td>150 W 12th St #4south</td>\n",
       "      <td>Greenwich Village, New York, NY</td>\n",
       "      <td>3995000.0</td>\n",
       "      <td>0.0</td>\n",
       "      <td>2.0</td>\n",
       "      <td>2.0</td>\n",
       "      <td>1465.0</td>\n",
       "    </tr>\n",
       "    <tr>\n",
       "      <th>9</th>\n",
       "      <td>16 W 19th St #7E</td>\n",
       "      <td>Flatiron District, New York, NY</td>\n",
       "      <td>1475000.0</td>\n",
       "      <td>0.0</td>\n",
       "      <td>1.0</td>\n",
       "      <td>1.0</td>\n",
       "      <td>904.0</td>\n",
       "    </tr>\n",
       "    <tr>\n",
       "      <th>10</th>\n",
       "      <td>201 W 16th St #4A</td>\n",
       "      <td>Chelsea, New York, NY</td>\n",
       "      <td>1495000.0</td>\n",
       "      <td>0.0</td>\n",
       "      <td>2.0</td>\n",
       "      <td>2.0</td>\n",
       "      <td>101221.0</td>\n",
       "    </tr>\n",
       "    <tr>\n",
       "      <th>11</th>\n",
       "      <td>149 W 12th St #6/6</td>\n",
       "      <td>Greenwich Village, New York, NY</td>\n",
       "      <td>675000.0</td>\n",
       "      <td>0.0</td>\n",
       "      <td>1.0</td>\n",
       "      <td>1.0</td>\n",
       "      <td>NaN</td>\n",
       "    </tr>\n",
       "    <tr>\n",
       "      <th>12</th>\n",
       "      <td>101 W 24th St #33A</td>\n",
       "      <td>Chelsea, New York, NY</td>\n",
       "      <td>3499000.0</td>\n",
       "      <td>0.0</td>\n",
       "      <td>3.0</td>\n",
       "      <td>2.0</td>\n",
       "      <td>1555.0</td>\n",
       "    </tr>\n",
       "    <tr>\n",
       "      <th>13</th>\n",
       "      <td>483 W 22nd St</td>\n",
       "      <td>Chelsea, New York, NY</td>\n",
       "      <td>7900000.0</td>\n",
       "      <td>0.0</td>\n",
       "      <td>6.0</td>\n",
       "      <td>6.0</td>\n",
       "      <td>4155.0</td>\n",
       "    </tr>\n",
       "    <tr>\n",
       "      <th>14</th>\n",
       "      <td>356 W 23rd St #4A</td>\n",
       "      <td>Chelsea, New York, NY</td>\n",
       "      <td>879000.0</td>\n",
       "      <td>0.0</td>\n",
       "      <td>1.0</td>\n",
       "      <td>2.0</td>\n",
       "      <td>700.0</td>\n",
       "    </tr>\n",
       "    <tr>\n",
       "      <th>15</th>\n",
       "      <td>335 W 21st St #RE</td>\n",
       "      <td>Chelsea, New York, NY</td>\n",
       "      <td>799000.0</td>\n",
       "      <td>0.0</td>\n",
       "      <td>1.0</td>\n",
       "      <td>1.0</td>\n",
       "      <td>10250.0</td>\n",
       "    </tr>\n",
       "    <tr>\n",
       "      <th>16</th>\n",
       "      <td>231 W 16th St #5E</td>\n",
       "      <td>Chelsea, New York, NY</td>\n",
       "      <td>1495000.0</td>\n",
       "      <td>0.0</td>\n",
       "      <td>2.0</td>\n",
       "      <td>2.0</td>\n",
       "      <td>NaN</td>\n",
       "    </tr>\n",
       "    <tr>\n",
       "      <th>17</th>\n",
       "      <td>222 W 14th St #4A</td>\n",
       "      <td>West Village, New York, NY</td>\n",
       "      <td>999000.0</td>\n",
       "      <td>1.0</td>\n",
       "      <td>1.0</td>\n",
       "      <td>1.0</td>\n",
       "      <td>625.0</td>\n",
       "    </tr>\n",
       "    <tr>\n",
       "      <th>18</th>\n",
       "      <td>111 W 11th St #3FE</td>\n",
       "      <td>Greenwich Village, New York, NY</td>\n",
       "      <td>659000.0</td>\n",
       "      <td>1.0</td>\n",
       "      <td>1.0</td>\n",
       "      <td>1.0</td>\n",
       "      <td>NaN</td>\n",
       "    </tr>\n",
       "    <tr>\n",
       "      <th>19</th>\n",
       "      <td>201 W 21st St #7-H</td>\n",
       "      <td>Chelsea, New York, NY</td>\n",
       "      <td>675000.0</td>\n",
       "      <td>0.0</td>\n",
       "      <td>1.0</td>\n",
       "      <td>1.0</td>\n",
       "      <td>NaN</td>\n",
       "    </tr>\n",
       "    <tr>\n",
       "      <th>20</th>\n",
       "      <td>342 W 21st St #2D</td>\n",
       "      <td>Chelsea, New York, NY</td>\n",
       "      <td>725000.0</td>\n",
       "      <td>0.0</td>\n",
       "      <td>1.0</td>\n",
       "      <td>1.0</td>\n",
       "      <td>19440.0</td>\n",
       "    </tr>\n",
       "    <tr>\n",
       "      <th>21</th>\n",
       "      <td>212 W 18th St #1</td>\n",
       "      <td>Gramercy, New York, NY</td>\n",
       "      <td>35000000.0</td>\n",
       "      <td>0.0</td>\n",
       "      <td>6.0</td>\n",
       "      <td>5.0</td>\n",
       "      <td>5955.0</td>\n",
       "    </tr>\n",
       "    <tr>\n",
       "      <th>22</th>\n",
       "      <td>142 5th Ave</td>\n",
       "      <td>Flatiron District, New York, NY</td>\n",
       "      <td>6950000.0</td>\n",
       "      <td>0.0</td>\n",
       "      <td>4.0</td>\n",
       "      <td>4.0</td>\n",
       "      <td>3500.0</td>\n",
       "    </tr>\n",
       "    <tr>\n",
       "      <th>23</th>\n",
       "      <td>118 Waverly Pl #4A</td>\n",
       "      <td>Greenwich Village, New York, NY</td>\n",
       "      <td>799000.0</td>\n",
       "      <td>0.0</td>\n",
       "      <td>1.0</td>\n",
       "      <td>1.0</td>\n",
       "      <td>NaN</td>\n",
       "    </tr>\n",
       "    <tr>\n",
       "      <th>24</th>\n",
       "      <td>43 W 12th St</td>\n",
       "      <td>Greenwich Village, New York, NY</td>\n",
       "      <td>7750000.0</td>\n",
       "      <td>0.0</td>\n",
       "      <td>4.0</td>\n",
       "      <td>4.0</td>\n",
       "      <td>2288.0</td>\n",
       "    </tr>\n",
       "    <tr>\n",
       "      <th>25</th>\n",
       "      <td>447 W 18th St</td>\n",
       "      <td>Chelsea, New York, NY</td>\n",
       "      <td>9999999.0</td>\n",
       "      <td>0.0</td>\n",
       "      <td>5.0</td>\n",
       "      <td>5.0</td>\n",
       "      <td>3950.0</td>\n",
       "    </tr>\n",
       "    <tr>\n",
       "      <th>26</th>\n",
       "      <td>148 W 23rd St #3G</td>\n",
       "      <td>Chelsea, New York, NY</td>\n",
       "      <td>700000.0</td>\n",
       "      <td>0.0</td>\n",
       "      <td>1.0</td>\n",
       "      <td>1.0</td>\n",
       "      <td>802.0</td>\n",
       "    </tr>\n",
       "    <tr>\n",
       "      <th>27</th>\n",
       "      <td>100 W 15th St #3A</td>\n",
       "      <td>Chelsea, New York, NY</td>\n",
       "      <td>499000.0</td>\n",
       "      <td>1.0</td>\n",
       "      <td>1.0</td>\n",
       "      <td>1.0</td>\n",
       "      <td>NaN</td>\n",
       "    </tr>\n",
       "    <tr>\n",
       "      <th>28</th>\n",
       "      <td>462 W 23rd St</td>\n",
       "      <td>Chelsea, New York, NY</td>\n",
       "      <td>18000000.0</td>\n",
       "      <td>0.0</td>\n",
       "      <td>10.0</td>\n",
       "      <td>4.0</td>\n",
       "      <td>7050.0</td>\n",
       "    </tr>\n",
       "    <tr>\n",
       "      <th>29</th>\n",
       "      <td>210 W 21st St #4FW</td>\n",
       "      <td>Chelsea, New York, NY</td>\n",
       "      <td>1165000.0</td>\n",
       "      <td>0.0</td>\n",
       "      <td>1.0</td>\n",
       "      <td>3.0</td>\n",
       "      <td>900.0</td>\n",
       "    </tr>\n",
       "    <tr>\n",
       "      <th>31</th>\n",
       "      <td>166 W 18th St #5C</td>\n",
       "      <td>Chelsea, New York, NY</td>\n",
       "      <td>5000000.0</td>\n",
       "      <td>0.0</td>\n",
       "      <td>4.0</td>\n",
       "      <td>5.0</td>\n",
       "      <td>2580.0</td>\n",
       "    </tr>\n",
       "    <tr>\n",
       "      <th>32</th>\n",
       "      <td>459 W 18th St #2</td>\n",
       "      <td>Chelsea, New York, NY</td>\n",
       "      <td>9950000.0</td>\n",
       "      <td>0.0</td>\n",
       "      <td>4.0</td>\n",
       "      <td>3.0</td>\n",
       "      <td>3447.0</td>\n",
       "    </tr>\n",
       "    <tr>\n",
       "      <th>33</th>\n",
       "      <td>231 W 16th St #1WF</td>\n",
       "      <td>Chelsea, New York, NY</td>\n",
       "      <td>599999.0</td>\n",
       "      <td>0.0</td>\n",
       "      <td>1.0</td>\n",
       "      <td>1.0</td>\n",
       "      <td>700.0</td>\n",
       "    </tr>\n",
       "    <tr>\n",
       "      <th>34</th>\n",
       "      <td>450 W 17th St #4-PENTHOUSE</td>\n",
       "      <td>Chelsea, New York, NY</td>\n",
       "      <td>3600000.0</td>\n",
       "      <td>0.0</td>\n",
       "      <td>2.0</td>\n",
       "      <td>2.0</td>\n",
       "      <td>1078.0</td>\n",
       "    </tr>\n",
       "    <tr>\n",
       "      <th>35</th>\n",
       "      <td>124 W 23rd St #16A</td>\n",
       "      <td>Chelsea, New York, NY</td>\n",
       "      <td>4495000.0</td>\n",
       "      <td>0.0</td>\n",
       "      <td>3.0</td>\n",
       "      <td>3.0</td>\n",
       "      <td>2025.0</td>\n",
       "    </tr>\n",
       "    <tr>\n",
       "      <th>36</th>\n",
       "      <td>450 W 17th St #2009</td>\n",
       "      <td>Chelsea, New York, NY</td>\n",
       "      <td>4895000.0</td>\n",
       "      <td>0.0</td>\n",
       "      <td>3.0</td>\n",
       "      <td>3.0</td>\n",
       "      <td>1637.0</td>\n",
       "    </tr>\n",
       "    <tr>\n",
       "      <th>37</th>\n",
       "      <td>122 Greenwich Ave #5</td>\n",
       "      <td>West Village, New York, NY</td>\n",
       "      <td>5500000.0</td>\n",
       "      <td>0.0</td>\n",
       "      <td>4.0</td>\n",
       "      <td>3.0</td>\n",
       "      <td>2016.0</td>\n",
       "    </tr>\n",
       "    <tr>\n",
       "      <th>38</th>\n",
       "      <td>338 W 19th St #1A</td>\n",
       "      <td>Chelsea, New York, NY</td>\n",
       "      <td>998000.0</td>\n",
       "      <td>0.0</td>\n",
       "      <td>1.0</td>\n",
       "      <td>1.0</td>\n",
       "      <td>NaN</td>\n",
       "    </tr>\n",
       "    <tr>\n",
       "      <th>39</th>\n",
       "      <td>233 W 21st St #4C</td>\n",
       "      <td>Chelsea, New York, NY</td>\n",
       "      <td>625000.0</td>\n",
       "      <td>0.0</td>\n",
       "      <td>1.0</td>\n",
       "      <td>1.0</td>\n",
       "      <td>20748.0</td>\n",
       "    </tr>\n",
       "    <tr>\n",
       "      <th>40</th>\n",
       "      <td>175 W 13th St #9A</td>\n",
       "      <td>Greenwich Village, New York, NY</td>\n",
       "      <td>549000.0</td>\n",
       "      <td>1.0</td>\n",
       "      <td>1.0</td>\n",
       "      <td>1.0</td>\n",
       "      <td>450.0</td>\n",
       "    </tr>\n",
       "  </tbody>\n",
       "</table>\n",
       "</div>"
      ],
      "text/plain": [
       "                       address                       city/state       price  \\\n",
       "0            13 W 13th St #5JS  Greenwich Village, New York, NY    999000.0   \n",
       "1           145 W 13th St #103  Greenwich Village, New York, NY   1995000.0   \n",
       "2             442 W 22nd St #1            Chelsea, New York, NY   9995000.0   \n",
       "3                 41 W 12th St  Greenwich Village, New York, NY   9250000.0   \n",
       "4            211 W 14th St #2A       East Village, New York, NY   3850000.0   \n",
       "5          450 W 17th St #1204            Chelsea, New York, NY   1375000.0   \n",
       "6        458 W 23rd St #Garden            Chelsea, New York, NY    559000.0   \n",
       "7            365 W 20th St #9D            Chelsea, New York, NY    725000.0   \n",
       "8        150 W 12th St #4south  Greenwich Village, New York, NY   3995000.0   \n",
       "9             16 W 19th St #7E  Flatiron District, New York, NY   1475000.0   \n",
       "10           201 W 16th St #4A            Chelsea, New York, NY   1495000.0   \n",
       "11          149 W 12th St #6/6  Greenwich Village, New York, NY    675000.0   \n",
       "12          101 W 24th St #33A            Chelsea, New York, NY   3499000.0   \n",
       "13               483 W 22nd St            Chelsea, New York, NY   7900000.0   \n",
       "14           356 W 23rd St #4A            Chelsea, New York, NY    879000.0   \n",
       "15           335 W 21st St #RE            Chelsea, New York, NY    799000.0   \n",
       "16           231 W 16th St #5E            Chelsea, New York, NY   1495000.0   \n",
       "17           222 W 14th St #4A       West Village, New York, NY    999000.0   \n",
       "18          111 W 11th St #3FE  Greenwich Village, New York, NY    659000.0   \n",
       "19          201 W 21st St #7-H            Chelsea, New York, NY    675000.0   \n",
       "20           342 W 21st St #2D            Chelsea, New York, NY    725000.0   \n",
       "21            212 W 18th St #1           Gramercy, New York, NY  35000000.0   \n",
       "22                 142 5th Ave  Flatiron District, New York, NY   6950000.0   \n",
       "23          118 Waverly Pl #4A  Greenwich Village, New York, NY    799000.0   \n",
       "24                43 W 12th St  Greenwich Village, New York, NY   7750000.0   \n",
       "25               447 W 18th St            Chelsea, New York, NY   9999999.0   \n",
       "26           148 W 23rd St #3G            Chelsea, New York, NY    700000.0   \n",
       "27           100 W 15th St #3A            Chelsea, New York, NY    499000.0   \n",
       "28               462 W 23rd St            Chelsea, New York, NY  18000000.0   \n",
       "29          210 W 21st St #4FW            Chelsea, New York, NY   1165000.0   \n",
       "31           166 W 18th St #5C            Chelsea, New York, NY   5000000.0   \n",
       "32            459 W 18th St #2            Chelsea, New York, NY   9950000.0   \n",
       "33          231 W 16th St #1WF            Chelsea, New York, NY    599999.0   \n",
       "34  450 W 17th St #4-PENTHOUSE            Chelsea, New York, NY   3600000.0   \n",
       "35          124 W 23rd St #16A            Chelsea, New York, NY   4495000.0   \n",
       "36         450 W 17th St #2009            Chelsea, New York, NY   4895000.0   \n",
       "37        122 Greenwich Ave #5       West Village, New York, NY   5500000.0   \n",
       "38           338 W 19th St #1A            Chelsea, New York, NY    998000.0   \n",
       "39           233 W 21st St #4C            Chelsea, New York, NY    625000.0   \n",
       "40           175 W 13th St #9A  Greenwich Village, New York, NY    549000.0   \n",
       "\n",
       "    studio  bath  bed      sqft  \n",
       "0      0.0   1.0  2.0     850.0  \n",
       "1      0.0   3.0  2.0       NaN  \n",
       "2      0.0   7.0  5.0       NaN  \n",
       "3      0.0   4.0  4.0    3075.0  \n",
       "4      0.0   4.0  3.0    1850.0  \n",
       "5      0.0   1.0  1.0     600.0  \n",
       "6      0.0   1.0  1.0       NaN  \n",
       "7      0.0   1.0  1.0   62638.0  \n",
       "8      0.0   2.0  2.0    1465.0  \n",
       "9      0.0   1.0  1.0     904.0  \n",
       "10     0.0   2.0  2.0  101221.0  \n",
       "11     0.0   1.0  1.0       NaN  \n",
       "12     0.0   3.0  2.0    1555.0  \n",
       "13     0.0   6.0  6.0    4155.0  \n",
       "14     0.0   1.0  2.0     700.0  \n",
       "15     0.0   1.0  1.0   10250.0  \n",
       "16     0.0   2.0  2.0       NaN  \n",
       "17     1.0   1.0  1.0     625.0  \n",
       "18     1.0   1.0  1.0       NaN  \n",
       "19     0.0   1.0  1.0       NaN  \n",
       "20     0.0   1.0  1.0   19440.0  \n",
       "21     0.0   6.0  5.0    5955.0  \n",
       "22     0.0   4.0  4.0    3500.0  \n",
       "23     0.0   1.0  1.0       NaN  \n",
       "24     0.0   4.0  4.0    2288.0  \n",
       "25     0.0   5.0  5.0    3950.0  \n",
       "26     0.0   1.0  1.0     802.0  \n",
       "27     1.0   1.0  1.0       NaN  \n",
       "28     0.0  10.0  4.0    7050.0  \n",
       "29     0.0   1.0  3.0     900.0  \n",
       "31     0.0   4.0  5.0    2580.0  \n",
       "32     0.0   4.0  3.0    3447.0  \n",
       "33     0.0   1.0  1.0     700.0  \n",
       "34     0.0   2.0  2.0    1078.0  \n",
       "35     0.0   3.0  3.0    2025.0  \n",
       "36     0.0   3.0  3.0    1637.0  \n",
       "37     0.0   4.0  3.0    2016.0  \n",
       "38     0.0   1.0  1.0       NaN  \n",
       "39     0.0   1.0  1.0   20748.0  \n",
       "40     1.0   1.0  1.0     450.0  "
      ]
     },
     "execution_count": 58,
     "metadata": {},
     "output_type": "execute_result"
    }
   ],
   "source": [
    "big_df.head(40)"
   ]
  },
  {
   "cell_type": "code",
   "execution_count": 59,
   "metadata": {},
   "outputs": [
    {
     "data": {
      "text/plain": [
       "address        0\n",
       "city/state     0\n",
       "price          0\n",
       "studio         0\n",
       "bath           1\n",
       "bed            3\n",
       "sqft          62\n",
       "dtype: int64"
      ]
     },
     "execution_count": 59,
     "metadata": {},
     "output_type": "execute_result"
    }
   ],
   "source": [
    "big_df.isnull().sum()"
   ]
  },
  {
   "cell_type": "code",
   "execution_count": 60,
   "metadata": {},
   "outputs": [
    {
     "data": {
      "text/plain": [
       "211 W 14th St #3B         1\n",
       "76 11th Ave #X14A         1\n",
       "410 W 24th St #18BCE      1\n",
       "201 W 16th St #15A        1\n",
       "76 11th Ave #X23E         1\n",
       "514 W 24th St #3W         1\n",
       "155 W 20th St #2C         1\n",
       "201 W 21st St #7-H        1\n",
       "560 W 24th St #1          1\n",
       "140 7th Ave #3R           1\n",
       "305 W 16th St #C          1\n",
       "211 W 14th St #5B         1\n",
       "170 W 23rd St #2S         1\n",
       "100 W 15th St #5E         1\n",
       "503 W 24th St #6          1\n",
       "503 W 24th St #7          1\n",
       "101 W 24th St #3E         1\n",
       "100 W 12th St #6J         1\n",
       "520 W 23rd St #7A         1\n",
       "148 W 23rd St #3G         1\n",
       "76 11th Ave #15E          1\n",
       "122 Greenwich Ave #Pha    1\n",
       "16 W 19th St #6D          1\n",
       "127 W 12th St             1\n",
       "61 W 9th St #7C           1\n",
       "40 5th Ave #MAIS-1/2B     1\n",
       "16 W 19th St #7E          1\n",
       "140 W 22nd St #6A         1\n",
       "346 W 22nd St #Parlor     1\n",
       "166 W 18th St #5C         1\n",
       "                         ..\n",
       "2 5th Ave #2Q             1\n",
       "245 W 14th St #4C         1\n",
       "175 W 12th St #12E        1\n",
       "50 W 9th St #1B           1\n",
       "342 W 21st St #4A         1\n",
       "210 W 21st St #4FW        1\n",
       "207 W 21st St #3          1\n",
       "133 W 22nd St #11E        1\n",
       "16 W 19th St #6E          1\n",
       "40 W 17th St #9A          1\n",
       "155 W 11th St #9A         1\n",
       "220 W 16th St             1\n",
       "79 W 12th St #14B         1\n",
       "360 W 21st St #4G         1\n",
       "15 W 11th St #3C          1\n",
       "357 W 17th St             1\n",
       "111 W 11th St #3FE        1\n",
       "444 W 19th St #605        1\n",
       "63 W 17th St #3A          1\n",
       "130 W 16th St #21/22      1\n",
       "150 W 12th St #M5         1\n",
       "505 W 19th St #4A         1\n",
       "505 W 19th St #6W         1\n",
       "32 W 18th St #9A          1\n",
       "6 W 20th St #10N          1\n",
       "105 W 13th St #7E         1\n",
       "520 W 23rd St #7C         1\n",
       "15 W 12th St #10G         1\n",
       "40 5th Ave #4B            1\n",
       "133 W 22nd St #5C         1\n",
       "Name: address, Length: 426, dtype: int64"
      ]
     },
     "execution_count": 60,
     "metadata": {},
     "output_type": "execute_result"
    }
   ],
   "source": [
    "big_df['address'].value_counts()"
   ]
  },
  {
   "cell_type": "code",
   "execution_count": 61,
   "metadata": {},
   "outputs": [
    {
     "data": {
      "text/html": [
       "<div>\n",
       "<style scoped>\n",
       "    .dataframe tbody tr th:only-of-type {\n",
       "        vertical-align: middle;\n",
       "    }\n",
       "\n",
       "    .dataframe tbody tr th {\n",
       "        vertical-align: top;\n",
       "    }\n",
       "\n",
       "    .dataframe thead th {\n",
       "        text-align: right;\n",
       "    }\n",
       "</style>\n",
       "<table border=\"1\" class=\"dataframe\">\n",
       "  <thead>\n",
       "    <tr style=\"text-align: right;\">\n",
       "      <th></th>\n",
       "      <th>address</th>\n",
       "      <th>city/state</th>\n",
       "      <th>price</th>\n",
       "      <th>studio</th>\n",
       "      <th>bath</th>\n",
       "      <th>bed</th>\n",
       "      <th>sqft</th>\n",
       "    </tr>\n",
       "  </thead>\n",
       "  <tbody>\n",
       "    <tr>\n",
       "      <th>2</th>\n",
       "      <td>442 W 22nd St #1</td>\n",
       "      <td>Chelsea, New York, NY</td>\n",
       "      <td>9995000.0</td>\n",
       "      <td>0.0</td>\n",
       "      <td>7.0</td>\n",
       "      <td>5.0</td>\n",
       "      <td>NaN</td>\n",
       "    </tr>\n",
       "  </tbody>\n",
       "</table>\n",
       "</div>"
      ],
      "text/plain": [
       "            address             city/state      price  studio  bath  bed  sqft\n",
       "2  442 W 22nd St #1  Chelsea, New York, NY  9995000.0     0.0   7.0  5.0   NaN"
      ]
     },
     "execution_count": 61,
     "metadata": {},
     "output_type": "execute_result"
    }
   ],
   "source": [
    "big_df[big_df['address'] == '442 W 22nd St #1']"
   ]
  },
  {
   "cell_type": "code",
   "execution_count": 62,
   "metadata": {},
   "outputs": [
    {
     "data": {
      "text/plain": [
       "(426, 7)"
      ]
     },
     "execution_count": 62,
     "metadata": {},
     "output_type": "execute_result"
    }
   ],
   "source": [
    "big_df.shape"
   ]
  },
  {
   "cell_type": "code",
   "execution_count": 63,
   "metadata": {},
   "outputs": [],
   "source": [
    "# big_df.to_csv('./trulia_10011_final_df.csv')"
   ]
  },
  {
   "cell_type": "code",
   "execution_count": 64,
   "metadata": {},
   "outputs": [],
   "source": [
    "# "
   ]
  },
  {
   "cell_type": "code",
   "execution_count": 69,
   "metadata": {},
   "outputs": [],
   "source": [
    "# import numpy as np\n",
    "# def new_product_no_div(numbers):\n",
    "#     if len(numbers) == 0 or len(numbers) == 1:\n",
    "#         return None\n",
    "#     products = []\n",
    "#     for i,number in enumerate(numbers):\n",
    "#         products.append(np.multiply(np.product(numbers[:i]),\n",
    "#                                     np.product(numbers[i+1:])))\n",
    "#     return products"
   ]
  },
  {
   "cell_type": "code",
   "execution_count": 70,
   "metadata": {},
   "outputs": [],
   "source": [
    "# def new_product(numbers):\n",
    "#     if len(numbers) == 0 or len(numbers) == 1:\n",
    "#         return None\n",
    "#     products = []\n",
    "#     product = np.product(numbers)\n",
    "#     for i,number in enumerate(numbers):\n",
    "#         #could likely be in the form of try/except instead\n",
    "#         if number != 0:\n",
    "#             products.append(product/number)\n",
    "#         if number == 0:\n",
    "#             products.append(np.multiply(np.product(numbers[:i]),\n",
    "#                                         np.product(numbers[i+1:])))\n",
    "#     return products"
   ]
  },
  {
   "cell_type": "code",
   "execution_count": 71,
   "metadata": {},
   "outputs": [],
   "source": [
    "# def new_product_with_pop(numbers):\n",
    "#     if len(numbers) == 0 or len(numbers) == 1:\n",
    "#         return None\n",
    "#     products = []\n",
    "#     for _ in range(len(numbers)):\n",
    "#         number = numbers.pop(0)\n",
    "#         products.append(np.product(numbers))\n",
    "#         numbers.append(number)\n",
    "#     return products"
   ]
  },
  {
   "cell_type": "code",
   "execution_count": 72,
   "metadata": {},
   "outputs": [],
   "source": [
    "# numbers = [1,2,3,4,5]\n",
    "# print(new_product_no_div(numbers))\n",
    "# print(new_product(numbers))\n",
    "# print(new_product_with_pop(numbers))"
   ]
  },
  {
   "cell_type": "code",
   "execution_count": 73,
   "metadata": {},
   "outputs": [],
   "source": [
    "# numbers = [2,6,7,8,4]\n",
    "# print(new_product_no_div(numbers))\n",
    "# print(new_product(numbers))\n",
    "# print(new_product_with_pop(numbers))"
   ]
  }
 ],
 "metadata": {
  "kernelspec": {
   "display_name": "Python 3",
   "language": "python",
   "name": "python3"
  },
  "language_info": {
   "codemirror_mode": {
    "name": "ipython",
    "version": 3
   },
   "file_extension": ".py",
   "mimetype": "text/x-python",
   "name": "python",
   "nbconvert_exporter": "python",
   "pygments_lexer": "ipython3",
   "version": "3.6.8"
  }
 },
 "nbformat": 4,
 "nbformat_minor": 2
}
