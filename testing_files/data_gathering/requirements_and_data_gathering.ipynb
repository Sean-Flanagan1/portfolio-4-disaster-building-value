{
 "cells": [
  {
   "cell_type": "code",
   "execution_count": 1,
   "metadata": {},
   "outputs": [],
   "source": [
    "# Problem Statement:\n",
    "# During a disaster, it is important to model and estimate the potential or forecasted effect of the event, \n",
    "# including the projected/forecasted damage."
   ]
  },
  {
   "cell_type": "code",
   "execution_count": 2,
   "metadata": {},
   "outputs": [],
   "source": [
    "# Considerations:\n",
    "# Bear in mind that the value you provide to New Light Technologies may come from data ingestion, data cleaning, \n",
    "# EDA, and/ or a dashboard, etc. \n",
    "# While a model may not be immediately apparent, be creative. \n",
    "# Without being told exactly what model to build, how could we build a model to increase performance or \n",
    "# generate better insights when answering our problem statement?"
   ]
  },
  {
   "cell_type": "code",
   "execution_count": 3,
   "metadata": {},
   "outputs": [],
   "source": [
    "# Useful Features:\n",
    "# Existing indicators of forecasted damage include number of structures within the affected area, number of \n",
    "# people in the area, number of households, demographics of the impacted population, etc.\n",
    "# Key feature of this project is the value of the properties in the affected area. Property values can be \n",
    "# estimated according to the market price of houses."
   ]
  },
  {
   "cell_type": "code",
   "execution_count": 4,
   "metadata": {},
   "outputs": [],
   "source": [
    "# Goals/Objectives:\n",
    "# Leverage property market prices published in different real-estate websites (e.g. Zillow, Trulia, Realtor.com), \n",
    "# according to zip codes.\n",
    "# Solution must allow users to automatically search for the mean, median, min, max and average value of the \n",
    "# properties in each zip code area.\n",
    "# The objective is not to download the database from these sources. Rather, it should allow the user to feed \n",
    "# the code with a list of affected areas (zip codes) as input, and retrieve the current, historical, \n",
    "# annual, monthly, and/or quarterly property values."
   ]
  },
  {
   "cell_type": "code",
   "execution_count": 5,
   "metadata": {},
   "outputs": [],
   "source": [
    "# Deliverables:\n",
    "# 1) Brief write-up describing the project.\n",
    "# - A problem statement.\n",
    "# - A succinct formulation of the question your analysis seeks to answer.\n",
    "# - A table of contents, which should indicate which notebook or scripts a stakeholder should start \n",
    "#   with, and a link to an executive summary.\n",
    "# - A paragraph description of the data you used, plus your data acquisition, ingestion, and cleaning steps.\n",
    "# - A short description of software requirements (e.g., Pandas, Scikit-learn) required by your analysis.\n",
    "\n",
    "# 2) An open source code (or a simple API) which takes, as input, a list of zip codes, and outputs the mean, \n",
    "# median, min and max property values in these areas.\n",
    "# - Jupyter notebook(s) must be reproducible and error-free!\n",
    "# - You should set a random seed at the start of every notebook, using np.random.seed(...). This will ensure \n",
    "# - that the random numbers generated in your notebook will be the same every time.\n",
    "# - You need to provide a relative path to your data, so that if I clone your repo to my machine I can \n",
    "#   run everything in your repo without error. (You also provide links to any publicly accessible data.)\n",
    "# - I should be able to Restart & Run All in your notebook(s) and see that the exact same results are reproduced.\n",
    "# - To check that everything worked properly, you may consider forking your own repo to a different location \n",
    "#   on your computer and checking that all notebooks can run properly from top to bottom."
   ]
  },
  {
   "cell_type": "code",
   "execution_count": 6,
   "metadata": {},
   "outputs": [],
   "source": [
    "# PROJECT EVALUATION CRITERIA:\n",
    "# 1) Project Requirements - Did our group meet all project requirements?\n",
    "# 2) Audience - Is our project presentation appropriate for our stakeholder?\n",
    "# 3) Methods - Are the methods we used appropriate for solving our problem statement?\n",
    "# 4) Value - Did we provide value to our stakeholder through clear, data-driven recommendations?"
   ]
  },
  {
   "cell_type": "code",
   "execution_count": 7,
   "metadata": {},
   "outputs": [],
   "source": [
    "#################################### Phase 1) Data Gathering ##################################################"
   ]
  },
  {
   "cell_type": "code",
   "execution_count": 21,
   "metadata": {},
   "outputs": [],
   "source": [
    "# Import libraries:\n",
    "import pandas as pd\n",
    "import requests\n",
    "from bs4 import BeautifulSoup\n",
    "header = {'User-Agent':'cjbratkovics2'}"
   ]
  },
  {
   "cell_type": "code",
   "execution_count": 22,
   "metadata": {},
   "outputs": [],
   "source": [
    "# URL resources:\n",
    "zillow_url = 'https://www.zillow.com/'\n",
    "trulia_url = 'https://www.trulia.com/'\n",
    "realtor_url = 'https://www.realtor.com/'"
   ]
  },
  {
   "cell_type": "code",
   "execution_count": 23,
   "metadata": {},
   "outputs": [],
   "source": [
    "z_res = requests.get(zillow_url, headers = header)\n",
    "t_res = requests.get(trulia_url, headers = header)\n",
    "r_res = requests.get(realtor_url)"
   ]
  },
  {
   "cell_type": "code",
   "execution_count": 24,
   "metadata": {},
   "outputs": [
    {
     "name": "stdout",
     "output_type": "stream",
     "text": [
      "Zillow status code =  200\n",
      "Trulia status code =  200\n",
      "Realtor.com status code =  200\n"
     ]
    }
   ],
   "source": [
    "print('Zillow status code = ', z_res.status_code)\n",
    "print('Trulia status code = ', t_res.status_code)\n",
    "print('Realtor.com status code = ', r_res.status_code)"
   ]
  },
  {
   "cell_type": "code",
   "execution_count": 25,
   "metadata": {},
   "outputs": [],
   "source": [
    "z_soup = BeautifulSoup(z_res.content, 'lxml')\n",
    "t_soup = BeautifulSoup(t_res.content, 'lxml')\n",
    "r_soup = BeautifulSoup(r_res.content, 'lxml')"
   ]
  },
  {
   "cell_type": "code",
   "execution_count": 26,
   "metadata": {},
   "outputs": [
    {
     "data": {
      "text/plain": [
       "b'<!DOCTYPE html>\\n<html lang=\"en\">\\n<head>\\n\\n  \\n    <meta charset=\"utf-8\">\\n    \\n  <meta name=\"viewport\" content=\"width=device-width, initial-scale=1.0, maximum-scale=1.0, user-scalable=no, shrink-to-fit=no\" />\\n\\n  \\n\\n      <meta name=\"csrft\" value=\"mjk8ZYFWowze18XpPlHpdpj/oLtes10eyNr5CGPOCok=\">\\n  \\n  \\n      \\n\\n  \\n\\n  <title>\\n      Trulia: Real Estate Listings, Homes For Sale, Housing Data\\n  </title>\\n\\n  \\n    <meta name=\"description\" content=\"Your destination for all real estate listings and rental propert'"
      ]
     },
     "execution_count": 26,
     "metadata": {},
     "output_type": "execute_result"
    }
   ],
   "source": [
    "t_res.content[:500] # preview Trulia content"
   ]
  },
  {
   "cell_type": "code",
   "execution_count": null,
   "metadata": {},
   "outputs": [],
   "source": []
  },
  {
   "cell_type": "code",
   "execution_count": null,
   "metadata": {},
   "outputs": [],
   "source": []
  },
  {
   "cell_type": "code",
   "execution_count": null,
   "metadata": {},
   "outputs": [],
   "source": []
  }
 ],
 "metadata": {
  "kernelspec": {
   "display_name": "Python 3",
   "language": "python",
   "name": "python3"
  },
  "language_info": {
   "codemirror_mode": {
    "name": "ipython",
    "version": 3
   },
   "file_extension": ".py",
   "mimetype": "text/x-python",
   "name": "python",
   "nbconvert_exporter": "python",
   "pygments_lexer": "ipython3",
   "version": "3.6.8"
  }
 },
 "nbformat": 4,
 "nbformat_minor": 2
}
