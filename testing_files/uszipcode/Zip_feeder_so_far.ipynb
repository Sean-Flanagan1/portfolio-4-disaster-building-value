def zip_feeder(ziplist):
    #zlist = list
    zlist = []
    number = int(input())
    print("press 1 then continue ")
    for z in range(0,5):  
#         if len(str(z)) != 5:
#             print("Zipcodes contain 5 digits, please make sure your inputs are valid.")
#             pass
#         elif z != int or float:
#             print("zipcodes consist only of 5 numeric digits as an integer or float, please only input numbers!")
#             pass
#         else: print("you're all good!")
        #print("press 1 then continue ")
        numbers = int(input())
        list.append(numbers)
        zlist = list
        print(zlist)