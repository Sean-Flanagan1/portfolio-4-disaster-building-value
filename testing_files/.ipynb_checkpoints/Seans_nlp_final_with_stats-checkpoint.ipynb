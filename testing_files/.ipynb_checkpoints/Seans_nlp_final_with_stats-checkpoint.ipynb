{
 "cells": [
  {
   "cell_type": "code",
   "execution_count": 1,
   "metadata": {},
   "outputs": [],
   "source": [
    "import matplotlib.pyplot as plt\n",
    "import numpy as np\n",
    "import seaborn as sns \n",
    "import pandas as pd\n",
    "import requests \n",
    "from bs4 import BeautifulSoup \n",
    "import zillow"
   ]
  },
  {
   "cell_type": "markdown",
   "metadata": {},
   "source": [
    "### From the project - \n",
    "The tool will allow the user to automatically search for the mean, median, min, max and average value of the properties in each zip code area."
   ]
  },
  {
   "cell_type": "code",
   "execution_count": 2,
   "metadata": {},
   "outputs": [],
   "source": [
    "df = pd.read_csv('nlp_final_2.csv')"
   ]
  },
  {
   "cell_type": "code",
   "execution_count": 3,
   "metadata": {},
   "outputs": [
    {
     "data": {
      "text/html": [
       "<div>\n",
       "<style scoped>\n",
       "    .dataframe tbody tr th:only-of-type {\n",
       "        vertical-align: middle;\n",
       "    }\n",
       "\n",
       "    .dataframe tbody tr th {\n",
       "        vertical-align: top;\n",
       "    }\n",
       "\n",
       "    .dataframe thead th {\n",
       "        text-align: right;\n",
       "    }\n",
       "</style>\n",
       "<table border=\"1\" class=\"dataframe\">\n",
       "  <thead>\n",
       "    <tr style=\"text-align: right;\">\n",
       "      <th></th>\n",
       "      <th>address</th>\n",
       "      <th>city/state</th>\n",
       "      <th>price</th>\n",
       "      <th>studio</th>\n",
       "      <th>bath</th>\n",
       "      <th>bed</th>\n",
       "      <th>sqft</th>\n",
       "    </tr>\n",
       "  </thead>\n",
       "  <tbody>\n",
       "    <tr>\n",
       "      <th>0</th>\n",
       "      <td>458 W 23rd St #Garden</td>\n",
       "      <td>Chelsea, New York, NY</td>\n",
       "      <td>559000</td>\n",
       "      <td>NaN</td>\n",
       "      <td>1.0</td>\n",
       "      <td>1.0</td>\n",
       "      <td>NaN</td>\n",
       "    </tr>\n",
       "    <tr>\n",
       "      <th>1</th>\n",
       "      <td>201 W 21st St #7-H</td>\n",
       "      <td>Chelsea, New York, NY</td>\n",
       "      <td>675000</td>\n",
       "      <td>Studio</td>\n",
       "      <td>1.0</td>\n",
       "      <td>1.0</td>\n",
       "      <td>NaN</td>\n",
       "    </tr>\n",
       "    <tr>\n",
       "      <th>2</th>\n",
       "      <td>201 W 16th St #4A</td>\n",
       "      <td>Chelsea, New York, NY</td>\n",
       "      <td>1495000</td>\n",
       "      <td>NaN</td>\n",
       "      <td>2.0</td>\n",
       "      <td>2.0</td>\n",
       "      <td>101221.0</td>\n",
       "    </tr>\n",
       "    <tr>\n",
       "      <th>3</th>\n",
       "      <td>150 W 12th St #4south</td>\n",
       "      <td>Greenwich Village, New York, NY</td>\n",
       "      <td>3995000</td>\n",
       "      <td>NaN</td>\n",
       "      <td>2.0</td>\n",
       "      <td>2.0</td>\n",
       "      <td>1465.0</td>\n",
       "    </tr>\n",
       "    <tr>\n",
       "      <th>4</th>\n",
       "      <td>342 W 21st St #2D</td>\n",
       "      <td>Chelsea, New York, NY</td>\n",
       "      <td>725000</td>\n",
       "      <td>NaN</td>\n",
       "      <td>1.0</td>\n",
       "      <td>1.0</td>\n",
       "      <td>19440.0</td>\n",
       "    </tr>\n",
       "  </tbody>\n",
       "</table>\n",
       "</div>"
      ],
      "text/plain": [
       "                 address                       city/state    price  studio  \\\n",
       "0  458 W 23rd St #Garden            Chelsea, New York, NY   559000     NaN   \n",
       "1     201 W 21st St #7-H            Chelsea, New York, NY   675000  Studio   \n",
       "2      201 W 16th St #4A            Chelsea, New York, NY  1495000     NaN   \n",
       "3  150 W 12th St #4south  Greenwich Village, New York, NY  3995000     NaN   \n",
       "4      342 W 21st St #2D            Chelsea, New York, NY   725000     NaN   \n",
       "\n",
       "   bath  bed      sqft  \n",
       "0   1.0  1.0       NaN  \n",
       "1   1.0  1.0       NaN  \n",
       "2   2.0  2.0  101221.0  \n",
       "3   2.0  2.0    1465.0  \n",
       "4   1.0  1.0   19440.0  "
      ]
     },
     "execution_count": 3,
     "metadata": {},
     "output_type": "execute_result"
    }
   ],
   "source": [
    "df.head()"
   ]
  },
  {
   "cell_type": "code",
   "execution_count": 5,
   "metadata": {
    "scrolled": true
   },
   "outputs": [
    {
     "data": {
      "text/plain": [
       "(420, 7)"
      ]
     },
     "execution_count": 5,
     "metadata": {},
     "output_type": "execute_result"
    }
   ],
   "source": [
    "df.shape"
   ]
  },
  {
   "cell_type": "code",
   "execution_count": 13,
   "metadata": {
    "scrolled": true
   },
   "outputs": [
    {
     "data": {
      "text/html": [
       "<div>\n",
       "<style scoped>\n",
       "    .dataframe tbody tr th:only-of-type {\n",
       "        vertical-align: middle;\n",
       "    }\n",
       "\n",
       "    .dataframe tbody tr th {\n",
       "        vertical-align: top;\n",
       "    }\n",
       "\n",
       "    .dataframe thead th {\n",
       "        text-align: right;\n",
       "    }\n",
       "</style>\n",
       "<table border=\"1\" class=\"dataframe\">\n",
       "  <thead>\n",
       "    <tr style=\"text-align: right;\">\n",
       "      <th></th>\n",
       "      <th>price</th>\n",
       "      <th>bath</th>\n",
       "      <th>bed</th>\n",
       "      <th>sqft</th>\n",
       "    </tr>\n",
       "  </thead>\n",
       "  <tbody>\n",
       "    <tr>\n",
       "      <th>count</th>\n",
       "      <td>4.200000e+02</td>\n",
       "      <td>419.000000</td>\n",
       "      <td>417.000000</td>\n",
       "      <td>357.000000</td>\n",
       "    </tr>\n",
       "    <tr>\n",
       "      <th>mean</th>\n",
       "      <td>4.131653e+06</td>\n",
       "      <td>2.315036</td>\n",
       "      <td>2.100719</td>\n",
       "      <td>25278.896359</td>\n",
       "    </tr>\n",
       "    <tr>\n",
       "      <th>std</th>\n",
       "      <td>5.628029e+06</td>\n",
       "      <td>1.663293</td>\n",
       "      <td>1.331723</td>\n",
       "      <td>77789.654700</td>\n",
       "    </tr>\n",
       "    <tr>\n",
       "      <th>min</th>\n",
       "      <td>4.250000e+05</td>\n",
       "      <td>1.000000</td>\n",
       "      <td>1.000000</td>\n",
       "      <td>420.000000</td>\n",
       "    </tr>\n",
       "    <tr>\n",
       "      <th>25%</th>\n",
       "      <td>9.900000e+05</td>\n",
       "      <td>1.000000</td>\n",
       "      <td>1.000000</td>\n",
       "      <td>876.000000</td>\n",
       "    </tr>\n",
       "    <tr>\n",
       "      <th>50%</th>\n",
       "      <td>2.047500e+06</td>\n",
       "      <td>2.000000</td>\n",
       "      <td>2.000000</td>\n",
       "      <td>1653.000000</td>\n",
       "    </tr>\n",
       "    <tr>\n",
       "      <th>75%</th>\n",
       "      <td>4.950000e+06</td>\n",
       "      <td>3.000000</td>\n",
       "      <td>3.000000</td>\n",
       "      <td>3700.000000</td>\n",
       "    </tr>\n",
       "    <tr>\n",
       "      <th>max</th>\n",
       "      <td>5.250000e+07</td>\n",
       "      <td>10.000000</td>\n",
       "      <td>9.000000</td>\n",
       "      <td>403741.000000</td>\n",
       "    </tr>\n",
       "  </tbody>\n",
       "</table>\n",
       "</div>"
      ],
      "text/plain": [
       "              price        bath         bed           sqft\n",
       "count  4.200000e+02  419.000000  417.000000     357.000000\n",
       "mean   4.131653e+06    2.315036    2.100719   25278.896359\n",
       "std    5.628029e+06    1.663293    1.331723   77789.654700\n",
       "min    4.250000e+05    1.000000    1.000000     420.000000\n",
       "25%    9.900000e+05    1.000000    1.000000     876.000000\n",
       "50%    2.047500e+06    2.000000    2.000000    1653.000000\n",
       "75%    4.950000e+06    3.000000    3.000000    3700.000000\n",
       "max    5.250000e+07   10.000000    9.000000  403741.000000"
      ]
     },
     "execution_count": 13,
     "metadata": {},
     "output_type": "execute_result"
    }
   ],
   "source": [
    "df.describe()"
   ]
  },
  {
   "cell_type": "code",
   "execution_count": 37,
   "metadata": {},
   "outputs": [
    {
     "data": {
      "text/plain": [
       "address       458 W 23rd St #Garden201 W 21st St #7-H201 W 1...\n",
       "city/state    Chelsea, New York, NYChelsea, New York, NYChel...\n",
       "price                                                1735294281\n",
       "bath                                                        970\n",
       "bed                                                         876\n",
       "sqft                                                9.02457e+06\n",
       "dtype: object"
      ]
     },
     "execution_count": 37,
     "metadata": {},
     "output_type": "execute_result"
    }
   ],
   "source": [
    "df.sum()"
   ]
  },
  {
   "cell_type": "code",
   "execution_count": null,
   "metadata": {},
   "outputs": [],
   "source": []
  },
  {
   "cell_type": "code",
   "execution_count": 45,
   "metadata": {},
   "outputs": [
    {
     "ename": "AttributeError",
     "evalue": "'str' object has no attribute 'sum'",
     "output_type": "error",
     "traceback": [
      "\u001b[0;31m---------------------------------------------------------------------------\u001b[0m",
      "\u001b[0;31mAttributeError\u001b[0m                            Traceback (most recent call last)",
      "\u001b[0;32m<ipython-input-45-a0303d8e07d8>\u001b[0m in \u001b[0;36m<module>\u001b[0;34m\u001b[0m\n\u001b[0;32m----> 1\u001b[0;31m \u001b[0mprint\u001b[0m\u001b[0;34m(\u001b[0m\u001b[0;34m'the mean of {} is {}'\u001b[0m\u001b[0;34m.\u001b[0m\u001b[0mformat\u001b[0m\u001b[0;34m(\u001b[0m\u001b[0mcol\u001b[0m\u001b[0;34m,\u001b[0m \u001b[0mcol\u001b[0m\u001b[0;34m.\u001b[0m\u001b[0msum\u001b[0m\u001b[0;34m)\u001b[0m\u001b[0;34m)\u001b[0m\u001b[0;34m\u001b[0m\u001b[0;34m\u001b[0m\u001b[0m\n\u001b[0m",
      "\u001b[0;31mAttributeError\u001b[0m: 'str' object has no attribute 'sum'"
     ]
    }
   ],
   "source": [
    "print('the mean of {} is {}'.format(col, col.sum))"
   ]
  },
  {
   "cell_type": "code",
   "execution_count": 22,
   "metadata": {},
   "outputs": [],
   "source": [
    "columns = df[[\"price\", \"bath\", \"bed\", \"sqft\"]]\n"
   ]
  },
  {
   "cell_type": "code",
   "execution_count": 23,
   "metadata": {},
   "outputs": [
    {
     "data": {
      "text/html": [
       "<div>\n",
       "<style scoped>\n",
       "    .dataframe tbody tr th:only-of-type {\n",
       "        vertical-align: middle;\n",
       "    }\n",
       "\n",
       "    .dataframe tbody tr th {\n",
       "        vertical-align: top;\n",
       "    }\n",
       "\n",
       "    .dataframe thead th {\n",
       "        text-align: right;\n",
       "    }\n",
       "</style>\n",
       "<table border=\"1\" class=\"dataframe\">\n",
       "  <thead>\n",
       "    <tr style=\"text-align: right;\">\n",
       "      <th></th>\n",
       "      <th>price</th>\n",
       "      <th>bath</th>\n",
       "      <th>bed</th>\n",
       "      <th>sqft</th>\n",
       "    </tr>\n",
       "  </thead>\n",
       "  <tbody>\n",
       "    <tr>\n",
       "      <th>0</th>\n",
       "      <td>559000</td>\n",
       "      <td>1.0</td>\n",
       "      <td>1.0</td>\n",
       "      <td>NaN</td>\n",
       "    </tr>\n",
       "    <tr>\n",
       "      <th>1</th>\n",
       "      <td>675000</td>\n",
       "      <td>1.0</td>\n",
       "      <td>1.0</td>\n",
       "      <td>NaN</td>\n",
       "    </tr>\n",
       "    <tr>\n",
       "      <th>2</th>\n",
       "      <td>1495000</td>\n",
       "      <td>2.0</td>\n",
       "      <td>2.0</td>\n",
       "      <td>101221.0</td>\n",
       "    </tr>\n",
       "    <tr>\n",
       "      <th>3</th>\n",
       "      <td>3995000</td>\n",
       "      <td>2.0</td>\n",
       "      <td>2.0</td>\n",
       "      <td>1465.0</td>\n",
       "    </tr>\n",
       "    <tr>\n",
       "      <th>4</th>\n",
       "      <td>725000</td>\n",
       "      <td>1.0</td>\n",
       "      <td>1.0</td>\n",
       "      <td>19440.0</td>\n",
       "    </tr>\n",
       "  </tbody>\n",
       "</table>\n",
       "</div>"
      ],
      "text/plain": [
       "     price  bath  bed      sqft\n",
       "0   559000   1.0  1.0       NaN\n",
       "1   675000   1.0  1.0       NaN\n",
       "2  1495000   2.0  2.0  101221.0\n",
       "3  3995000   2.0  2.0    1465.0\n",
       "4   725000   1.0  1.0   19440.0"
      ]
     },
     "execution_count": 23,
     "metadata": {},
     "output_type": "execute_result"
    }
   ],
   "source": [
    "columns.head()"
   ]
  },
  {
   "cell_type": "code",
   "execution_count": 24,
   "metadata": {},
   "outputs": [
    {
     "data": {
      "text/plain": [
       "price      int64\n",
       "bath     float64\n",
       "bed      float64\n",
       "sqft     float64\n",
       "dtype: object"
      ]
     },
     "execution_count": 24,
     "metadata": {},
     "output_type": "execute_result"
    }
   ],
   "source": [
    "columns.dtypes"
   ]
  },
  {
   "cell_type": "code",
   "execution_count": null,
   "metadata": {},
   "outputs": [],
   "source": [
    "print('the mean of {} is {}'.format(col, col.sum))"
   ]
  },
  {
   "cell_type": "code",
   "execution_count": 69,
   "metadata": {
    "scrolled": true
   },
   "outputs": [
    {
     "name": "stdout",
     "output_type": "stream",
     "text": [
      "<class 'pandas.core.series.Series'>\n",
      "\n",
      "the sum of price is 1735294281\n",
      "\n",
      "the mean of price is 4131653.05\n",
      "\n",
      "the minimum of price is 425000\n",
      "\n",
      "the maximum of price is 425000\n",
      "\n",
      "the median of price is 2047500.0\n",
      "\n",
      "the variance of price is 31599298665068.613\n",
      "\n",
      "the standard deviation of price is 5621325.347733274\n",
      "<class 'pandas.core.series.Series'>\n",
      "\n",
      "the sum of bath is 970.0\n",
      "\n",
      "the mean of bath is 2.315035799522673\n",
      "\n",
      "the minimum of bath is 1.0\n",
      "\n",
      "the maximum of bath is 1.0\n",
      "\n",
      "the median of bath is nan\n",
      "\n",
      "the variance of bath is 2.759940989171853\n",
      "\n",
      "the standard deviation of bath is 1.6613070123164633\n",
      "<class 'pandas.core.series.Series'>\n",
      "\n",
      "the sum of bed is 876.0\n",
      "\n",
      "the mean of bed is 2.1007194244604315\n",
      "\n",
      "the minimum of bed is 1.0\n",
      "\n",
      "the maximum of bed is 1.0\n",
      "\n",
      "the median of bed is nan\n",
      "\n",
      "the variance of bed is 1.7692320963373156\n",
      "\n",
      "the standard deviation of bed is 1.3301248423878549\n",
      "<class 'pandas.core.series.Series'>\n",
      "\n",
      "the sum of sqft is 9024566.0\n",
      "\n",
      "the mean of sqft is 25278.896358543418\n",
      "\n",
      "the minimum of sqft is 420.0\n",
      "\n",
      "the maximum of sqft is 420.0\n",
      "\n",
      "the median of sqft is nan\n",
      "\n",
      "the variance of sqft is 6034280153.20774\n",
      "\n",
      "the standard deviation of sqft is 77680.62920193\n"
     ]
    },
    {
     "data": {
      "text/plain": [
       "[[1735294281,\n",
       "  4131653.05,\n",
       "  425000,\n",
       "  52500000,\n",
       "  2047500.0,\n",
       "  31599298665068.613,\n",
       "  5621325.347733274],\n",
       " [970.0,\n",
       "  2.315035799522673,\n",
       "  1.0,\n",
       "  10.0,\n",
       "  nan,\n",
       "  2.759940989171853,\n",
       "  1.6613070123164633],\n",
       " [876.0,\n",
       "  2.1007194244604315,\n",
       "  1.0,\n",
       "  9.0,\n",
       "  nan,\n",
       "  1.7692320963373156,\n",
       "  1.3301248423878549],\n",
       " [9024566.0,\n",
       "  25278.896358543418,\n",
       "  420.0,\n",
       "  403741.0,\n",
       "  nan,\n",
       "  6034280153.20774,\n",
       "  77680.62920193]]"
      ]
     },
     "execution_count": 69,
     "metadata": {},
     "output_type": "execute_result"
    }
   ],
   "source": [
    "columns = df[[\"price\", \"bath\", \"bed\", \"sqft\"]]\n",
    "all_stats = []\n",
    "for col in columns:\n",
    "    stat_col = df[col]\n",
    "    \n",
    "    stats = []\n",
    "#    stats = []\n",
    "    print(type(stat_col))\n",
    "#    \n",
    "    stat_sum = np.sum(stat_col)\n",
    "    stats.append(stat_sum)\n",
    "    print(\"\")\n",
    "    print(f\"the sum of {col} is {stat_sum}\".format(col, stat_sum))\n",
    "    \n",
    "    stat_mean = np.mean(stat_col)\n",
    "    stats.append(stat_mean)\n",
    "    print(\"\")\n",
    "    print(f\"the mean of {col} is {stat_mean}\".format(col, stat_mean))\n",
    "\n",
    "    \n",
    "    stat_min = np.min(stat_col)\n",
    "    stats.append(stat_min)\n",
    "    print(\"\")\n",
    "    print(f\"the minimum of {col} is {stat_min}\".format(col, stat_min))\n",
    "\n",
    "    \n",
    "    stat_max = np.max(stat_col)\n",
    "    stats.append(stat_max)\n",
    "    print(\"\")\n",
    "    print(f\"the maximum of {col} is {stat_min}\".format(col, stat_max))\n",
    "\n",
    "    \n",
    "    stat_med = np.median(stat_col)\n",
    "    stats.append(stat_med)\n",
    "    print(\"\")\n",
    "    print(f\"the median of {col} is {stat_med}\".format(col, stat_med))\n",
    "\n",
    "    \n",
    "    stat_var = np.var(stat_col)\n",
    "    stats.append(stat_var)\n",
    "    print(\"\")\n",
    "    print(f\"the variance of {col} is {stat_var}\".format(col, stat_var))\n",
    "\n",
    "    \n",
    "    stat_std = np.std(stat_col)\n",
    "    stats.append(stat_std)\n",
    "    print(\"\")\n",
    "    print(f\"the standard deviation of {col} is {stat_std}\".format(col, stat_std))\n",
    "\n",
    "    \n",
    "    all_stats.append(stats)\n",
    " #   stats.append('Sum', ...)\n",
    "# return sum_stats\n",
    "all_stats"
   ]
  },
  {
   "cell_type": "code",
   "execution_count": 6,
   "metadata": {},
   "outputs": [
    {
     "data": {
      "text/plain": [
       "address       458 W 23rd St #Garden201 W 21st St #7-H201 W 1...\n",
       "city/state    Chelsea, New York, NYChelsea, New York, NYChel...\n",
       "price                                                1735294281\n",
       "bath                                                        970\n",
       "bed                                                         876\n",
       "sqft                                                9.02457e+06\n",
       "dtype: object"
      ]
     },
     "execution_count": 6,
     "metadata": {},
     "output_type": "execute_result"
    }
   ],
   "source": [
    "df.sum()"
   ]
  },
  {
   "cell_type": "code",
   "execution_count": null,
   "metadata": {},
   "outputs": [],
   "source": [
    "df['price'].sum()\n"
   ]
  }
 ],
 "metadata": {
  "kernelspec": {
   "display_name": "Python 3",
   "language": "python",
   "name": "python3"
  },
  "language_info": {
   "codemirror_mode": {
    "name": "ipython",
    "version": 3
   },
   "file_extension": ".py",
   "mimetype": "text/x-python",
   "name": "python",
   "nbconvert_exporter": "python",
   "pygments_lexer": "ipython3",
   "version": "3.6.8"
  }
 },
 "nbformat": 4,
 "nbformat_minor": 2
}
